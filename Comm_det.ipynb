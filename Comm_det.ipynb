{
 "cells": [
  {
   "cell_type": "code",
   "execution_count": 13,
   "metadata": {},
   "outputs": [],
   "source": [
    "import igraph as ig\n",
    "import numpy as np\n",
    "import igraph as ig\n",
    "import leidenalg as la"
   ]
  },
  {
   "cell_type": "code",
   "execution_count": 14,
   "metadata": {},
   "outputs": [],
   "source": [
    "import pickle"
   ]
  },
  {
   "cell_type": "code",
   "execution_count": 15,
   "metadata": {},
   "outputs": [],
   "source": [
    "import matplotlib.pyplot as plt"
   ]
  },
  {
   "cell_type": "code",
   "execution_count": 3,
   "metadata": {},
   "outputs": [],
   "source": [
    "network=ig.Graph.Read_GML(\"InputNetwork gml format\")"
   ]
  },
  {
   "cell_type": "code",
   "execution_count": 20,
   "metadata": {},
   "outputs": [
    {
     "name": "stderr",
     "output_type": "stream",
     "text": [
      "1334it [27:53,  1.25s/it, resolution_parameter=0.00102] \n"
     ]
    }
   ],
   "source": [
    "G = network\n",
    "optimiser = la.Optimiser()\n",
    "profile = optimiser.resolution_profile(G, la.CPMVertexPartition, initial_membership=None, weights=network.es[\"weight\"],resolution_range=(0,1))"
   ]
  },
  {
   "cell_type": "code",
   "execution_count": 8,
   "metadata": {},
   "outputs": [],
   "source": [
    "count=0\n",
    "for partition in profile:\n",
    "    file_name=\"partition_\"+str(count)+\".txt\"\n",
    "    count=count+1\n",
    "    file = open(file_name,\"w\")\n",
    "    for community in partition: \n",
    "        file.write(str(community)[1:-1]+\";\") \n",
    "    file.close()\n",
    "    "
   ]
  },
  {
   "cell_type": "code",
   "execution_count": 21,
   "metadata": {},
   "outputs": [],
   "source": [
    "file_name=\"Comms_info.txt\"\n",
    "file = open(file_name,\"w\")\n",
    "file.write(\"number, quality, resolution, n_comms, modularity, weight_comms \\n\")\n",
    "for i in range(len(profile)):\n",
    "    file.write(str(i)+\",\"+str(profile[i].quality())+\",\"+str(profile[i].resolution_parameter)+\",\"+str(len(profile[i]))+\",\"+str(profile[i].modularity)+\",\"+str(profile[i].total_weight_in_all_comms())+\"\\n\")\n",
    "file.close()"
   ]
  }
 ],
 "metadata": {
  "kernelspec": {
   "display_name": "Python 3",
   "language": "python",
   "name": "python3"
  },
  "language_info": {
   "codemirror_mode": {
    "name": "ipython",
    "version": 3
   },
   "file_extension": ".py",
   "mimetype": "text/x-python",
   "name": "python",
   "nbconvert_exporter": "python",
   "pygments_lexer": "ipython3",
   "version": "3.7.4"
  }
 },
 "nbformat": 4,
 "nbformat_minor": 4
}
